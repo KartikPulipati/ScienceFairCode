{
 "cells": [
  {
   "cell_type": "markdown",
   "source": [
    "## Emotion Detection - Eye Version\n",
    "#### By Kartik Muralimohan Pulipati\n"
   ],
   "metadata": {
    "collapsed": false,
    "pycharm": {
     "name": "#%% md\n"
    }
   }
  },
  {
   "cell_type": "markdown",
   "source": [],
   "metadata": {
    "collapsed": false,
    "pycharm": {
     "name": "#%% md\n"
    }
   }
  },
  {
   "cell_type": "code",
   "execution_count": 1,
   "outputs": [],
   "source": [
    "import torch\n",
    "from torch import nn\n",
    "import torch.nn.functional as F\n",
    "from torch.utils.data import DataLoader\n",
    "from torchvision import datasets, transforms, models\n",
    "\n",
    "import matplotlib.pyplot as plt\n",
    "import numpy as np\n",
    "import pandas as pd\n",
    "\n",
    "from IPython.display import display\n",
    "import warnings\n",
    "\n",
    "import random\n",
    "import os\n",
    "from PIL import Image\n",
    "import time\n",
    "\n",
    "warnings.filterwarnings('ignore')\n",
    "%matplotlib inline"
   ],
   "metadata": {
    "collapsed": false,
    "pycharm": {
     "name": "#%%\n"
    }
   }
  },
  {
   "cell_type": "markdown",
   "source": [
    "### Experimenting with Data"
   ],
   "metadata": {
    "collapsed": false,
    "pycharm": {
     "name": "#%% md\n"
    }
   }
  },
  {
   "cell_type": "code",
   "execution_count": 5,
   "outputs": [],
   "source": [
    "path = 'data/archive-eyes/'\n",
    "img_names = []\n",
    "for folder,subFolders,filenames in os.walk(path):\n",
    "    for img in filenames:\n",
    "        img_names.append(folder+'/'+img)\n",
    "        print(folder+'/'+img)"
   ],
   "metadata": {
    "collapsed": false,
    "pycharm": {
     "name": "#%%\n"
    }
   }
  },
  {
   "cell_type": "code",
   "execution_count": 4,
   "outputs": [
    {
     "data": {
      "text/plain": "0"
     },
     "execution_count": 4,
     "metadata": {},
     "output_type": "execute_result"
    }
   ],
   "source": [
    "len(img_names)"
   ],
   "metadata": {
    "collapsed": false,
    "pycharm": {
     "name": "#%%\n"
    }
   }
  },
  {
   "cell_type": "code",
   "execution_count": 12,
   "outputs": [
    {
     "name": "stdout",
     "output_type": "stream",
     "text": [
      "17612\n"
     ]
    },
    {
     "data": {
      "text/plain": "0"
     },
     "execution_count": 12,
     "metadata": {},
     "output_type": "execute_result"
    }
   ],
   "source": [
    "img_sizes = []\n",
    "rejected = []\n",
    "\n",
    "for item in img_names:\n",
    "        try:\n",
    "                with Image.open(item) as img:\n",
    "                       img_sizes.append(img.size)\n",
    "\n",
    "        except:\n",
    "                rejected.append(item)\n",
    "\n",
    "print(len(img_sizes))\n",
    "len(rejected)"
   ],
   "metadata": {
    "collapsed": false,
    "pycharm": {
     "name": "#%%\n"
    }
   }
  },
  {
   "cell_type": "code",
   "execution_count": 14,
   "outputs": [
    {
     "data": {
      "text/plain": "    0   1\n0  48  48\n1  48  48\n2  48  48\n3  48  48\n4  48  48",
      "text/html": "<div>\n<style scoped>\n    .dataframe tbody tr th:only-of-type {\n        vertical-align: middle;\n    }\n\n    .dataframe tbody tr th {\n        vertical-align: top;\n    }\n\n    .dataframe thead th {\n        text-align: right;\n    }\n</style>\n<table border=\"1\" class=\"dataframe\">\n  <thead>\n    <tr style=\"text-align: right;\">\n      <th></th>\n      <th>0</th>\n      <th>1</th>\n    </tr>\n  </thead>\n  <tbody>\n    <tr>\n      <th>0</th>\n      <td>48</td>\n      <td>48</td>\n    </tr>\n    <tr>\n      <th>1</th>\n      <td>48</td>\n      <td>48</td>\n    </tr>\n    <tr>\n      <th>2</th>\n      <td>48</td>\n      <td>48</td>\n    </tr>\n    <tr>\n      <th>3</th>\n      <td>48</td>\n      <td>48</td>\n    </tr>\n    <tr>\n      <th>4</th>\n      <td>48</td>\n      <td>48</td>\n    </tr>\n  </tbody>\n</table>\n</div>"
     },
     "execution_count": 14,
     "metadata": {},
     "output_type": "execute_result"
    }
   ],
   "source": [
    "df_sizes = pd.DataFrame(img_sizes)\n",
    "df_sizes.head()"
   ],
   "metadata": {
    "collapsed": false,
    "pycharm": {
     "name": "#%%\n"
    }
   }
  },
  {
   "cell_type": "code",
   "execution_count": 55,
   "outputs": [
    {
     "data": {
      "text/plain": "<PIL.JpegImagePlugin.JpegImageFile image mode=RGB size=48x48 at 0x7FDF424E3E10>",
      "image/png": "[encoded data removed]"
     },
     "metadata": {},
     "output_type": "display_data"
    }
   ],
   "source": [
    "emotion = Image.open('data/archive-eyes/train/angry/img_train_angry_eye_10.jpg')\n",
    "display(emotion)"
   ],
   "metadata": {
    "collapsed": false,
    "pycharm": {
     "name": "#%%\n"
    }
   }
  },
  {
   "cell_type": "code",
   "execution_count": 137,
   "outputs": [
    {
     "name": "stdout",
     "output_type": "stream",
     "text": [
      "<class 'torch.Tensor'>\n",
      "torch.Size([3, 48, 48])\n"
     ]
    },
    {
     "data": {
      "text/plain": "<matplotlib.image.AxesImage at 0x7fdf1083d780>"
     },
     "execution_count": 137,
     "metadata": {},
     "output_type": "execute_result"
    },
    {
     "data": {
      "text/plain": "<Figure size 432x288 with 1 Axes>",
      "image/png": "[encoded data removed]"
     },
     "metadata": {
      "needs_background": "light"
     },
     "output_type": "display_data"
    }
   ],
   "source": [
    "transform = transforms.Compose([\n",
    "        transforms.RandomHorizontalFlip(p=1), #usually 0.5\n",
    "        transforms.RandomRotation(30),\n",
    "        transforms.ToTensor(),\n",
    "])\n",
    "tensorObj = transform(emotion)\n",
    "print(type(tensorObj))\n",
    "print(tensorObj.shape)\n",
    "plt.imshow(np.transpose(tensorObj.numpy(), (1,2,0)))"
   ],
   "metadata": {
    "collapsed": false,
    "pycharm": {
     "name": "#%%\n"
    }
   }
  },
  {
   "cell_type": "markdown",
   "source": [
    "### My Model"
   ],
   "metadata": {
    "collapsed": false,
    "pycharm": {
     "name": "#%% md\n"
    }
   }
  },
  {
   "cell_type": "code",
   "execution_count": 15,
   "id": "42474b1e",
   "metadata": {},
   "outputs": [],
   "source": [
    "model = nn.Sequential(\n",
    "        nn.Conv2d(1, 32, kernel_size=3, stride=1, padding=1),\n",
    "        nn.ReLU(),\n",
    "        nn.MaxPool2d(2, padding=1),\n",
    "    \n",
    "        nn.Conv2d(32, 64, kernel_size=3, stride=1, padding=1),\n",
    "        nn.ReLU(),\n",
    "        nn.MaxPool2d(2, padding=1),\n",
    "    \n",
    "        nn.Conv2d(64, 128, kernel_size=3, stride=1, padding=1),\n",
    "        nn.ReLU(),\n",
    "        nn.MaxPool2d(2, padding=1),\n",
    "    \n",
    "        nn.Conv2d(128, 128, kernel_size=3, stride=1, padding=1),\n",
    "        nn.ReLU(),\n",
    "        nn.MaxPool2d(2, padding=1),\n",
    "    \n",
    "        nn.Conv2d(128, 7, kernel_size=1, stride=1, padding=1),\n",
    "        nn.ReLU(),\n",
    "    \n",
    "        nn.Conv2d(7, 7, kernel_size=4, stride=1, padding=1),\n",
    "        nn.ReLU(),\n",
    "\n",
    "        nn.Flatten(),\n",
    "\n",
    "        nn.Softmax(),\n",
    "        )"
   ]
  },
  {
   "cell_type": "markdown",
   "source": [
    "### Loading in Data"
   ],
   "metadata": {
    "collapsed": false,
    "pycharm": {
     "name": "#%% md\n"
    }
   }
  },
  {
   "cell_type": "code",
   "execution_count": 5,
   "outputs": [],
   "source": [
    "train_transform = transforms.Compose([\n",
    "        transforms.Grayscale(1),\n",
    "        transforms.Resize(1),\n",
    "        transforms.RandomRotation(30),\n",
    "        transforms.RandomAffine(0,shear=0.3),\n",
    "        transforms.RandomHorizontalFlip(),\n",
    "        transforms.ToTensor(),\n",
    "])\n",
    "\n",
    "test_transform = transforms.Compose([\n",
    "        transforms.Grayscale(1),\n",
    "        transforms.ToTensor(),\n",
    "])"
   ],
   "metadata": {
    "collapsed": false,
    "pycharm": {
     "name": "#%%\n"
    }
   }
  },
  {
   "cell_type": "code",
   "execution_count": 6,
   "outputs": [
    {
     "data": {
      "text/plain": "['angry', 'disgust', 'fear', 'happy', 'neutral', 'sad', 'surprise']"
     },
     "execution_count": 6,
     "metadata": {},
     "output_type": "execute_result"
    }
   ],
   "source": [
    "train_data = datasets.ImageFolder(os.path.join(path, 'train'), transform=train_transform)\n",
    "test_data = datasets.ImageFolder(os.path.join(path, 'test'), transform=test_transform)\n",
    "\n",
    "train_loader = DataLoader(train_data,batch_size=32,shuffle=True)\n",
    "test_loader = DataLoader(test_data,batch_size=32)\n",
    "\n",
    "train_data.classes"
   ],
   "metadata": {
    "collapsed": false,
    "pycharm": {
     "name": "#%%\n"
    }
   }
  },
  {
   "cell_type": "markdown",
   "source": [
    "### Training the Model"
   ],
   "metadata": {
    "collapsed": false,
    "pycharm": {
     "name": "#%% md\n"
    }
   }
  },
  {
   "cell_type": "code",
   "execution_count": 41,
   "outputs": [
    {
     "data": {
      "text/plain": "Sequential(\n  (0): Conv2d(1, 32, kernel_size=(3, 3), stride=(1, 1), padding=(1, 1))\n  (1): ReLU()\n  (2): MaxPool2d(kernel_size=2, stride=2, padding=1, dilation=1, ceil_mode=False)\n  (3): Conv2d(32, 64, kernel_size=(3, 3), stride=(1, 1), padding=(1, 1))\n  (4): ReLU()\n  (5): MaxPool2d(kernel_size=2, stride=2, padding=1, dilation=1, ceil_mode=False)\n  (6): Conv2d(64, 128, kernel_size=(3, 3), stride=(1, 1), padding=(1, 1))\n  (7): ReLU()\n  (8): MaxPool2d(kernel_size=2, stride=2, padding=1, dilation=1, ceil_mode=False)\n  (9): Conv2d(128, 128, kernel_size=(3, 3), stride=(1, 1), padding=(1, 1))\n  (10): ReLU()\n  (11): MaxPool2d(kernel_size=2, stride=2, padding=1, dilation=1, ceil_mode=False)\n  (12): Conv2d(128, 7, kernel_size=(1, 1), stride=(1, 1), padding=(1, 1))\n  (13): ReLU()\n  (14): Conv2d(7, 7, kernel_size=(4, 4), stride=(1, 1), padding=(1, 1))\n  (15): ReLU()\n  (16): Flatten(start_dim=1, end_dim=-1)\n  (17): Softmax(dim=None)\n)"
     },
     "execution_count": 41,
     "metadata": {},
     "output_type": "execute_result"
    }
   ],
   "source": [
    "L = nn.CrossEntropyLoss()\n",
    "optimizer = torch.optim.Adam(model.parameters(), lr=1e-1, weight_decay=1e-6)\n",
    "\n",
    "epoch = 50\n",
    "\n",
    "train_losses = []\n",
    "test_losses = []\n",
    "\n",
    "train_correct = []\n",
    "test_correct = []\n",
    "\n",
    "model"
   ],
   "metadata": {
    "collapsed": false,
    "pycharm": {
     "name": "#%%\n"
    }
   }
  },
  {
   "cell_type": "code",
   "execution_count": 42,
   "outputs": [
    {
     "name": "stdout",
     "output_type": "stream",
     "text": [
      "epoch:  0  batch:    0 [     0/8000], loss: 3.33001137\n",
      "epoch:  0  batch:  100 [  1000/8000], loss: 3.14176202\n",
      "epoch:  0  batch:  200 [  2000/8000], loss: 2.98551202\n",
      "epoch:  0  batch:  300 [  3000/8000], loss: 3.07926202\n",
      "epoch:  0  batch:  400 [  4000/8000], loss: 3.07926202\n",
      "epoch:  1  batch:    0 [     0/8000], loss: 3.32926202\n",
      "epoch:  1  batch:  100 [  1000/8000], loss: 3.20426202\n",
      "epoch:  1  batch:  200 [  2000/8000], loss: 3.17301202\n",
      "epoch:  1  batch:  300 [  3000/8000], loss: 3.17301202\n",
      "epoch:  1  batch:  400 [  4000/8000], loss: 3.04801202\n",
      "epoch:  2  batch:    0 [     0/8000], loss: 3.01676202\n",
      "epoch:  2  batch:  100 [  1000/8000], loss: 3.04801202\n",
      "epoch:  2  batch:  200 [  2000/8000], loss: 3.07926273\n",
      "epoch:  2  batch:  300 [  3000/8000], loss: 3.17301226\n",
      "epoch:  2  batch:  400 [  4000/8000], loss: 3.17301226\n",
      "epoch:  3  batch:    0 [     0/8000], loss: 2.98551273\n",
      "epoch:  3  batch:  100 [  1000/8000], loss: 3.17301226\n",
      "epoch:  3  batch:  200 [  2000/8000], loss: 3.07926345\n",
      "epoch:  3  batch:  300 [  3000/8000], loss: 2.98551369\n",
      "epoch:  3  batch:  400 [  4000/8000], loss: 3.14176250\n",
      "epoch:  4  batch:    0 [     0/8000], loss: 2.95426321\n",
      "epoch:  4  batch:  100 [  1000/8000], loss: 3.14176321\n",
      "epoch:  4  batch:  200 [  2000/8000], loss: 2.98551297\n",
      "epoch:  4  batch:  300 [  3000/8000], loss: 3.14176321\n",
      "epoch:  4  batch:  400 [  4000/8000], loss: 3.20426202\n",
      "epoch:  5  batch:    0 [     0/8000], loss: 3.14176250\n",
      "epoch:  5  batch:  100 [  1000/8000], loss: 3.04801273\n",
      "epoch:  5  batch:  200 [  2000/8000], loss: 3.07926250\n",
      "epoch:  5  batch:  300 [  3000/8000], loss: 3.17301273\n",
      "epoch:  5  batch:  400 [  4000/8000], loss: 3.04801273\n",
      "epoch:  6  batch:    0 [     0/8000], loss: 3.04801297\n",
      "epoch:  6  batch:  100 [  1000/8000], loss: 3.20426226\n",
      "epoch:  6  batch:  200 [  2000/8000], loss: 3.11051226\n",
      "epoch:  6  batch:  300 [  3000/8000], loss: 3.07926273\n",
      "epoch:  6  batch:  400 [  4000/8000], loss: 3.14176226\n",
      "epoch:  7  batch:    0 [     0/8000], loss: 3.11051250\n",
      "epoch:  7  batch:  100 [  1000/8000], loss: 2.95426250\n",
      "epoch:  7  batch:  200 [  2000/8000], loss: 3.01676250\n",
      "epoch:  7  batch:  300 [  3000/8000], loss: 3.11051250\n",
      "epoch:  7  batch:  400 [  4000/8000], loss: 3.07926250\n",
      "epoch:  8  batch:    0 [     0/8000], loss: 3.04801273\n",
      "epoch:  8  batch:  100 [  1000/8000], loss: 2.98551202\n",
      "epoch:  8  batch:  200 [  2000/8000], loss: 3.07926321\n",
      "epoch:  8  batch:  300 [  3000/8000], loss: 3.14176226\n",
      "epoch:  8  batch:  400 [  4000/8000], loss: 3.17301226\n",
      "epoch:  9  batch:    0 [     0/8000], loss: 3.11051202\n",
      "epoch:  9  batch:  100 [  1000/8000], loss: 3.26676202\n",
      "epoch:  9  batch:  200 [  2000/8000], loss: 3.11051250\n",
      "epoch:  9  batch:  300 [  3000/8000], loss: 3.01676250\n",
      "epoch:  9  batch:  400 [  4000/8000], loss: 3.07926202\n",
      "epoch: 10  batch:    0 [     0/8000], loss: 3.26676202\n",
      "epoch: 10  batch:  100 [  1000/8000], loss: 3.04801369\n",
      "epoch: 10  batch:  200 [  2000/8000], loss: 3.11051226\n",
      "epoch: 10  batch:  300 [  3000/8000], loss: 3.07926273\n",
      "epoch: 10  batch:  400 [  4000/8000], loss: 3.14176202\n",
      "epoch: 11  batch:    0 [     0/8000], loss: 3.20426226\n",
      "epoch: 11  batch:  100 [  1000/8000], loss: 3.11051369\n",
      "epoch: 11  batch:  200 [  2000/8000], loss: 2.92301202\n",
      "epoch: 11  batch:  300 [  3000/8000], loss: 3.14176202\n",
      "epoch: 11  batch:  400 [  4000/8000], loss: 2.98551202\n",
      "epoch: 12  batch:    0 [     0/8000], loss: 3.17301202\n",
      "epoch: 12  batch:  100 [  1000/8000], loss: 3.20426250\n",
      "epoch: 12  batch:  200 [  2000/8000], loss: 3.23551202\n",
      "epoch: 12  batch:  300 [  3000/8000], loss: 3.07926226\n",
      "epoch: 12  batch:  400 [  4000/8000], loss: 2.95426202\n",
      "epoch: 13  batch:    0 [     0/8000], loss: 3.14176226\n",
      "epoch: 13  batch:  100 [  1000/8000], loss: 3.14176202\n",
      "epoch: 13  batch:  200 [  2000/8000], loss: 3.11051202\n",
      "epoch: 13  batch:  300 [  3000/8000], loss: 3.11051202\n",
      "epoch: 13  batch:  400 [  4000/8000], loss: 3.01676416\n",
      "epoch: 14  batch:    0 [     0/8000], loss: 3.04801369\n",
      "epoch: 14  batch:  100 [  1000/8000], loss: 3.11051226\n",
      "epoch: 14  batch:  200 [  2000/8000], loss: 2.86051202\n",
      "epoch: 14  batch:  300 [  3000/8000], loss: 3.07926202\n",
      "epoch: 14  batch:  400 [  4000/8000], loss: 3.11051202\n",
      "epoch: 15  batch:    0 [     0/8000], loss: 3.23551202\n",
      "epoch: 15  batch:  100 [  1000/8000], loss: 3.14176226\n",
      "epoch: 15  batch:  200 [  2000/8000], loss: 3.14176202\n",
      "epoch: 15  batch:  300 [  3000/8000], loss: 3.14176202\n",
      "epoch: 15  batch:  400 [  4000/8000], loss: 3.04801202\n",
      "epoch: 16  batch:    0 [     0/8000], loss: 3.01676440\n",
      "epoch: 16  batch:  100 [  1000/8000], loss: 3.23551273\n",
      "epoch: 16  batch:  200 [  2000/8000], loss: 3.11051202\n",
      "epoch: 16  batch:  300 [  3000/8000], loss: 3.07926202\n",
      "epoch: 16  batch:  400 [  4000/8000], loss: 3.01676202\n",
      "epoch: 17  batch:    0 [     0/8000], loss: 3.04801202\n",
      "epoch: 17  batch:  100 [  1000/8000], loss: 3.01676202\n",
      "epoch: 17  batch:  200 [  2000/8000], loss: 3.11051202\n",
      "epoch: 17  batch:  300 [  3000/8000], loss: 3.07926226\n",
      "epoch: 17  batch:  400 [  4000/8000], loss: 3.11051250\n",
      "epoch: 18  batch:    0 [     0/8000], loss: 2.95426226\n",
      "epoch: 18  batch:  100 [  1000/8000], loss: 3.04801202\n",
      "epoch: 18  batch:  200 [  2000/8000], loss: 3.14176202\n",
      "epoch: 18  batch:  300 [  3000/8000], loss: 3.14176202\n",
      "epoch: 18  batch:  400 [  4000/8000], loss: 3.11051202\n",
      "epoch: 19  batch:    0 [     0/8000], loss: 3.17301202\n",
      "epoch: 19  batch:  100 [  1000/8000], loss: 3.23551202\n",
      "epoch: 19  batch:  200 [  2000/8000], loss: 3.14176202\n",
      "epoch: 19  batch:  300 [  3000/8000], loss: 3.01676226\n",
      "epoch: 19  batch:  400 [  4000/8000], loss: 3.23551202\n",
      "epoch: 20  batch:    0 [     0/8000], loss: 3.07926202\n",
      "epoch: 20  batch:  100 [  1000/8000], loss: 3.11051202\n",
      "epoch: 20  batch:  200 [  2000/8000], loss: 3.04801226\n",
      "epoch: 20  batch:  300 [  3000/8000], loss: 3.01676202\n",
      "epoch: 20  batch:  400 [  4000/8000], loss: 3.17301202\n",
      "epoch: 21  batch:    0 [     0/8000], loss: 3.26676202\n",
      "epoch: 21  batch:  100 [  1000/8000], loss: 3.17301202\n",
      "epoch: 21  batch:  200 [  2000/8000], loss: 3.11051202\n",
      "epoch: 21  batch:  300 [  3000/8000], loss: 3.23551202\n",
      "epoch: 21  batch:  400 [  4000/8000], loss: 3.01676202\n",
      "epoch: 22  batch:    0 [     0/8000], loss: 3.14176202\n",
      "epoch: 22  batch:  100 [  1000/8000], loss: 3.04801202\n",
      "epoch: 22  batch:  200 [  2000/8000], loss: 2.95426226\n",
      "epoch: 22  batch:  300 [  3000/8000], loss: 3.23551202\n",
      "epoch: 22  batch:  400 [  4000/8000], loss: 3.29801226\n",
      "epoch: 23  batch:    0 [     0/8000], loss: 3.07926202\n",
      "epoch: 23  batch:  100 [  1000/8000], loss: 3.07926273\n",
      "epoch: 23  batch:  200 [  2000/8000], loss: 3.26676202\n",
      "epoch: 23  batch:  300 [  3000/8000], loss: 3.20426202\n",
      "epoch: 23  batch:  400 [  4000/8000], loss: 3.01676202\n",
      "epoch: 24  batch:    0 [     0/8000], loss: 3.11051226\n",
      "epoch: 24  batch:  100 [  1000/8000], loss: 3.23551202\n",
      "epoch: 24  batch:  200 [  2000/8000], loss: 3.11051202\n",
      "epoch: 24  batch:  300 [  3000/8000], loss: 2.95426250\n",
      "epoch: 24  batch:  400 [  4000/8000], loss: 3.01676226\n",
      "epoch: 25  batch:    0 [     0/8000], loss: 3.20426202\n",
      "epoch: 25  batch:  100 [  1000/8000], loss: 3.26676273\n",
      "epoch: 25  batch:  200 [  2000/8000], loss: 3.11051202\n",
      "epoch: 25  batch:  300 [  3000/8000], loss: 3.11051202\n",
      "epoch: 25  batch:  400 [  4000/8000], loss: 3.17301250\n",
      "epoch: 26  batch:    0 [     0/8000], loss: 3.23551202\n",
      "epoch: 26  batch:  100 [  1000/8000], loss: 3.11051202\n",
      "epoch: 26  batch:  200 [  2000/8000], loss: 3.17301226\n",
      "epoch: 26  batch:  300 [  3000/8000], loss: 3.11051226\n",
      "epoch: 26  batch:  400 [  4000/8000], loss: 3.07926202\n",
      "epoch: 27  batch:    0 [     0/8000], loss: 3.01676202\n",
      "epoch: 27  batch:  100 [  1000/8000], loss: 3.11051226\n",
      "epoch: 27  batch:  200 [  2000/8000], loss: 3.01676273\n",
      "epoch: 27  batch:  300 [  3000/8000], loss: 3.14176202\n",
      "epoch: 27  batch:  400 [  4000/8000], loss: 3.17301226\n",
      "epoch: 28  batch:    0 [     0/8000], loss: 3.07926202\n",
      "epoch: 28  batch:  100 [  1000/8000], loss: 3.14176202\n",
      "epoch: 28  batch:  200 [  2000/8000], loss: 3.04801202\n",
      "epoch: 28  batch:  300 [  3000/8000], loss: 3.07926321\n",
      "epoch: 28  batch:  400 [  4000/8000], loss: 3.11051226\n",
      "epoch: 29  batch:    0 [     0/8000], loss: 3.23551250\n",
      "epoch: 29  batch:  100 [  1000/8000], loss: 3.11051226\n",
      "epoch: 29  batch:  200 [  2000/8000], loss: 3.17301202\n",
      "epoch: 29  batch:  300 [  3000/8000], loss: 3.20426202\n",
      "epoch: 29  batch:  400 [  4000/8000], loss: 3.07926250\n",
      "epoch: 30  batch:    0 [     0/8000], loss: 3.14176202\n",
      "epoch: 30  batch:  100 [  1000/8000], loss: 3.17301202\n",
      "epoch: 30  batch:  200 [  2000/8000], loss: 3.11051202\n",
      "epoch: 30  batch:  300 [  3000/8000], loss: 3.01676202\n",
      "epoch: 30  batch:  400 [  4000/8000], loss: 3.14176202\n",
      "epoch: 31  batch:    0 [     0/8000], loss: 3.20426202\n",
      "epoch: 31  batch:  100 [  1000/8000], loss: 3.20426202\n",
      "epoch: 31  batch:  200 [  2000/8000], loss: 3.17301250\n",
      "epoch: 31  batch:  300 [  3000/8000], loss: 3.01676202\n",
      "epoch: 31  batch:  400 [  4000/8000], loss: 3.07926202\n",
      "epoch: 32  batch:    0 [     0/8000], loss: 3.07926250\n",
      "epoch: 32  batch:  100 [  1000/8000], loss: 3.14176202\n",
      "epoch: 32  batch:  200 [  2000/8000], loss: 3.14176202\n",
      "epoch: 32  batch:  300 [  3000/8000], loss: 3.17301226\n",
      "epoch: 32  batch:  400 [  4000/8000], loss: 3.23551273\n",
      "epoch: 33  batch:    0 [     0/8000], loss: 3.11051202\n",
      "epoch: 33  batch:  100 [  1000/8000], loss: 3.20426202\n",
      "epoch: 33  batch:  200 [  2000/8000], loss: 3.14176202\n",
      "epoch: 33  batch:  300 [  3000/8000], loss: 2.98551202\n",
      "epoch: 33  batch:  400 [  4000/8000], loss: 3.32926202\n",
      "epoch: 34  batch:    0 [     0/8000], loss: 3.01676250\n",
      "epoch: 34  batch:  100 [  1000/8000], loss: 3.07926250\n",
      "epoch: 34  batch:  200 [  2000/8000], loss: 2.95426202\n",
      "epoch: 34  batch:  300 [  3000/8000], loss: 3.11051202\n",
      "epoch: 34  batch:  400 [  4000/8000], loss: 3.07926202\n",
      "epoch: 35  batch:    0 [     0/8000], loss: 3.07926226\n",
      "epoch: 35  batch:  100 [  1000/8000], loss: 3.23551273\n",
      "epoch: 35  batch:  200 [  2000/8000], loss: 3.07926202\n",
      "epoch: 35  batch:  300 [  3000/8000], loss: 3.20426202\n",
      "epoch: 35  batch:  400 [  4000/8000], loss: 3.04801202\n",
      "epoch: 36  batch:    0 [     0/8000], loss: 3.04801202\n",
      "epoch: 36  batch:  100 [  1000/8000], loss: 3.11051202\n",
      "epoch: 36  batch:  200 [  2000/8000], loss: 3.11051273\n",
      "epoch: 36  batch:  300 [  3000/8000], loss: 3.11051202\n",
      "epoch: 36  batch:  400 [  4000/8000], loss: 3.11051250\n",
      "epoch: 37  batch:    0 [     0/8000], loss: 2.98551273\n",
      "epoch: 37  batch:  100 [  1000/8000], loss: 2.95426202\n",
      "epoch: 37  batch:  200 [  2000/8000], loss: 3.04801202\n",
      "epoch: 37  batch:  300 [  3000/8000], loss: 3.14176202\n",
      "epoch: 37  batch:  400 [  4000/8000], loss: 2.92301202\n",
      "epoch: 38  batch:    0 [     0/8000], loss: 3.11051202\n",
      "epoch: 38  batch:  100 [  1000/8000], loss: 3.11051202\n",
      "epoch: 38  batch:  200 [  2000/8000], loss: 3.14176202\n",
      "epoch: 38  batch:  300 [  3000/8000], loss: 3.17301202\n",
      "epoch: 38  batch:  400 [  4000/8000], loss: 3.07926202\n",
      "epoch: 39  batch:    0 [     0/8000], loss: 3.07926202\n",
      "epoch: 39  batch:  100 [  1000/8000], loss: 3.11051202\n",
      "epoch: 39  batch:  200 [  2000/8000], loss: 3.20426202\n",
      "epoch: 39  batch:  300 [  3000/8000], loss: 3.07926202\n",
      "epoch: 39  batch:  400 [  4000/8000], loss: 3.07926202\n",
      "epoch: 40  batch:    0 [     0/8000], loss: 3.04801226\n",
      "epoch: 40  batch:  100 [  1000/8000], loss: 3.01676202\n",
      "epoch: 40  batch:  200 [  2000/8000], loss: 3.14176202\n",
      "epoch: 40  batch:  300 [  3000/8000], loss: 3.07926226\n",
      "epoch: 40  batch:  400 [  4000/8000], loss: 3.17301202\n",
      "epoch: 41  batch:    0 [     0/8000], loss: 3.11051202\n",
      "epoch: 41  batch:  100 [  1000/8000], loss: 3.04801273\n",
      "epoch: 41  batch:  200 [  2000/8000], loss: 3.11051202\n",
      "epoch: 41  batch:  300 [  3000/8000], loss: 3.26676202\n",
      "epoch: 41  batch:  400 [  4000/8000], loss: 3.17301202\n",
      "epoch: 42  batch:    0 [     0/8000], loss: 3.14176202\n",
      "epoch: 42  batch:  100 [  1000/8000], loss: 3.26676202\n",
      "epoch: 42  batch:  200 [  2000/8000], loss: 3.20426226\n",
      "epoch: 42  batch:  300 [  3000/8000], loss: 3.20426202\n",
      "epoch: 42  batch:  400 [  4000/8000], loss: 3.07926202\n",
      "epoch: 43  batch:    0 [     0/8000], loss: 2.95426226\n",
      "epoch: 43  batch:  100 [  1000/8000], loss: 3.26676202\n",
      "epoch: 43  batch:  200 [  2000/8000], loss: 3.04801202\n",
      "epoch: 43  batch:  300 [  3000/8000], loss: 3.17301202\n",
      "epoch: 43  batch:  400 [  4000/8000], loss: 3.04801202\n",
      "epoch: 44  batch:    0 [     0/8000], loss: 3.14176250\n",
      "epoch: 44  batch:  100 [  1000/8000], loss: 3.07926202\n",
      "epoch: 44  batch:  200 [  2000/8000], loss: 3.11051202\n",
      "epoch: 44  batch:  300 [  3000/8000], loss: 2.98551321\n",
      "epoch: 44  batch:  400 [  4000/8000], loss: 3.04801202\n",
      "epoch: 45  batch:    0 [     0/8000], loss: 3.20426202\n",
      "epoch: 45  batch:  100 [  1000/8000], loss: 3.11051226\n",
      "epoch: 45  batch:  200 [  2000/8000], loss: 3.11051273\n",
      "epoch: 45  batch:  300 [  3000/8000], loss: 3.17301226\n",
      "epoch: 45  batch:  400 [  4000/8000], loss: 3.04801202\n",
      "epoch: 46  batch:    0 [     0/8000], loss: 3.11051226\n",
      "epoch: 46  batch:  100 [  1000/8000], loss: 3.07926202\n",
      "epoch: 46  batch:  200 [  2000/8000], loss: 2.95426202\n",
      "epoch: 46  batch:  300 [  3000/8000], loss: 3.23551202\n",
      "epoch: 46  batch:  400 [  4000/8000], loss: 3.11051250\n",
      "epoch: 47  batch:    0 [     0/8000], loss: 3.17301226\n",
      "epoch: 47  batch:  100 [  1000/8000], loss: 3.11051202\n",
      "epoch: 47  batch:  200 [  2000/8000], loss: 2.98551202\n",
      "epoch: 47  batch:  300 [  3000/8000], loss: 3.14176202\n",
      "epoch: 47  batch:  400 [  4000/8000], loss: 2.92301297\n",
      "epoch: 48  batch:    0 [     0/8000], loss: 3.11051226\n",
      "epoch: 48  batch:  100 [  1000/8000], loss: 3.14176202\n",
      "epoch: 48  batch:  200 [  2000/8000], loss: 3.07926202\n",
      "epoch: 48  batch:  300 [  3000/8000], loss: 3.14176226\n",
      "epoch: 48  batch:  400 [  4000/8000], loss: 3.23551202\n",
      "epoch: 49  batch:    0 [     0/8000], loss: 3.04801440\n",
      "epoch: 49  batch:  100 [  1000/8000], loss: 3.14176345\n",
      "epoch: 49  batch:  200 [  2000/8000], loss: 3.17301202\n",
      "epoch: 49  batch:  300 [  3000/8000], loss: 3.07926202\n",
      "epoch: 49  batch:  400 [  4000/8000], loss: 3.17301202\n",
      "Total Time: 12.605049133300781 minutes\n"
     ]
    }
   ],
   "source": [
    "start_time = time.time()\n",
    "\n",
    "for i in range(epoch):\n",
    "        trn_correct = 0\n",
    "        tst_correct = 0\n",
    "\n",
    "        for b, (X_train, y_train) in enumerate(train_loader):\n",
    "                y_pred = model(X_train)\n",
    "                loss = L(y_pred, y_train)\n",
    "\n",
    "                predicted = torch.max(y_pred, 1)[1]\n",
    "                trn_correct += (predicted == y_train).sum()\n",
    "\n",
    "                optimizer.zero_grad()\n",
    "                loss.backward()\n",
    "                optimizer.step()\n",
    "\n",
    "                if b%100 == 0:\n",
    "                        print(f'epoch: {i:2}  batch: {b:4} [{10*b:6}/8000], loss: {loss.item():10.8f}')\n",
    "\n",
    "                train_losses.append(loss)\n",
    "                train_correct.append(trn_correct)\n",
    "\n",
    "        with torch.no_grad():\n",
    "                for b, (X_test, y_test) in enumerate(test_loader):\n",
    "                        y_val = model(X_test)\n",
    "\n",
    "                        predicted = torch.max(y_val.data, 1)[1]\n",
    "                        tst_correct += (predicted == y_test).sum()\n",
    "\n",
    "                        loss = L(y_val, y_test)\n",
    "                        test_losses.append(loss)\n",
    "                        test_correct.append(tst_correct)\n",
    "\n",
    "total_time = time.time() - start_time\n",
    "\n",
    "print(f'Total Time: {total_time/60} minutes')"
   ],
   "metadata": {
    "collapsed": false,
    "pycharm": {
     "name": "#%%\n"
    }
   }
  },
  {
   "cell_type": "code",
   "execution_count": 27,
   "id": "b48f143a",
   "metadata": {},
   "outputs": [],
   "source": [
    "#saving model\n",
    "torch.save(model.state_dict(), 'Emotion_Eye_Model.pt')"
   ]
  },
  {
   "cell_type": "markdown",
   "source": [
    "### Evaluating Model"
   ],
   "metadata": {
    "collapsed": false,
    "pycharm": {
     "name": "#%% md\n"
    }
   }
  },
  {
   "cell_type": "code",
   "execution_count": 31,
   "outputs": [
    {
     "data": {
      "text/plain": "<Figure size 432x288 with 1 Axes>",
      "image/png": "[encoded data removed]"
     },
     "metadata": {
      "needs_background": "light"
     },
     "output_type": "display_data"
    }
   ],
   "source": [
    "plt.plot(train_losses, label='training loss')\n",
    "plt.plot(test_losses, label='validation loss')\n",
    "plt.title('Loss at the end of each epoch')\n",
    "plt.legend();"
   ],
   "metadata": {
    "collapsed": false,
    "pycharm": {
     "name": "#%%\n"
    }
   }
  },
  {
   "cell_type": "code",
   "execution_count": 32,
   "outputs": [
    {
     "data": {
      "text/plain": "<Figure size 432x288 with 1 Axes>",
      "image/png": "[encoded data removed]"
     },
     "metadata": {
      "needs_background": "light"
     },
     "output_type": "display_data"
    }
   ],
   "source": [
    "plt.plot([t/80 for t in train_correct], label='training accuracy')\n",
    "plt.plot([t/30 for t in test_correct], label='validation accuracy')\n",
    "plt.title('Accuracy at the end of each epoch')\n",
    "plt.legend();"
   ],
   "metadata": {
    "collapsed": false,
    "pycharm": {
     "name": "#%%\n"
    }
   }
  },
  {
   "cell_type": "code",
   "execution_count": 35,
   "outputs": [
    {
     "name": "stdout",
     "output_type": "stream",
     "text": [
      "[tensor(0), tensor(0), tensor(0), tensor(0), tensor(0), tensor(0), tensor(0), tensor(0), tensor(0), tensor(0), tensor(0), tensor(0), tensor(0), tensor(0), tensor(0), tensor(0), tensor(0), tensor(0), tensor(0), tensor(0), tensor(0), tensor(0), tensor(0), tensor(0), tensor(0), tensor(0), tensor(0), tensor(0), tensor(0), tensor(0), tensor(0), tensor(0), tensor(0), tensor(0), tensor(0), tensor(0), tensor(0), tensor(0), tensor(0), tensor(0), tensor(0), tensor(0), tensor(0), tensor(0), tensor(0), tensor(0), tensor(0), tensor(0), tensor(0), tensor(0), tensor(0), tensor(0), tensor(0), tensor(0), tensor(0), tensor(0), tensor(0), tensor(0), tensor(0), tensor(0), tensor(0), tensor(0), tensor(0), tensor(0), tensor(0), tensor(0), tensor(0), tensor(0), tensor(0), tensor(0), tensor(0), tensor(0), tensor(0), tensor(0), tensor(0), tensor(0), tensor(0), tensor(0), tensor(0), tensor(0), tensor(0), tensor(0), tensor(0), tensor(0), tensor(0), tensor(0), tensor(0), tensor(0), tensor(0), tensor(0), tensor(0), tensor(0), tensor(0), tensor(0), tensor(0), tensor(0), tensor(0), tensor(0), tensor(0), tensor(0), tensor(0), tensor(0), tensor(0), tensor(0), tensor(0), tensor(0), tensor(0), tensor(0), tensor(0), tensor(0), tensor(0), tensor(0), tensor(0), tensor(0), tensor(0), tensor(0), tensor(0), tensor(0), tensor(0), tensor(0), tensor(0), tensor(0), tensor(0), tensor(0), tensor(0), tensor(0), tensor(0), tensor(0), tensor(0), tensor(0), tensor(0), tensor(0), tensor(0), tensor(0), tensor(0), tensor(0), tensor(0), tensor(0), tensor(0), tensor(0), tensor(0), tensor(0), tensor(0), tensor(0), tensor(0), tensor(0), tensor(0), tensor(0), tensor(0), tensor(0), tensor(0), tensor(0), tensor(0), tensor(0), tensor(0), tensor(0), tensor(0), tensor(0), tensor(0), tensor(0), tensor(0), tensor(0), tensor(0), tensor(0), tensor(0), tensor(0), tensor(0), tensor(0), tensor(0), tensor(0), tensor(0), tensor(0), tensor(0), tensor(0), tensor(0), tensor(0), tensor(0), tensor(0), tensor(0), tensor(0), tensor(0), tensor(0), tensor(0), tensor(0), tensor(0), tensor(0), tensor(0), tensor(0), tensor(0), tensor(0), tensor(0), tensor(0), tensor(0), tensor(0), tensor(0), tensor(0), tensor(0), tensor(0), tensor(0), tensor(0), tensor(0), tensor(0), tensor(0), tensor(0), tensor(0), tensor(0), tensor(0), tensor(0), tensor(0), tensor(0), tensor(0), tensor(0), tensor(0), tensor(0), tensor(0), tensor(0), tensor(0), tensor(0), tensor(0), tensor(0), tensor(0), tensor(0), tensor(0), tensor(0), tensor(0), tensor(0), tensor(0), tensor(0), tensor(0), tensor(0), tensor(0), tensor(0), tensor(0), tensor(0), tensor(0), tensor(0), tensor(0), tensor(0), tensor(0), tensor(0), tensor(0), tensor(0), tensor(0), tensor(0), tensor(0), tensor(0), tensor(0), tensor(0), tensor(0), tensor(0), tensor(0), tensor(0), tensor(0), tensor(0), tensor(0), tensor(0), tensor(0), tensor(0), tensor(0), tensor(0), tensor(0), tensor(0), tensor(0), tensor(0), tensor(0), tensor(0), tensor(0), tensor(0), tensor(0), tensor(0), tensor(0), tensor(0), tensor(0), tensor(0), tensor(0), tensor(0), tensor(0), tensor(0), tensor(0), tensor(0), tensor(0), tensor(0), tensor(0), tensor(0), tensor(0), tensor(0), tensor(0), tensor(0), tensor(0), tensor(0), tensor(0), tensor(0), tensor(0), tensor(0), tensor(0), tensor(0), tensor(0), tensor(0), tensor(0), tensor(0), tensor(0), tensor(0), tensor(0), tensor(0), tensor(0), tensor(0), tensor(0), tensor(0), tensor(0), tensor(0), tensor(0), tensor(0), tensor(0), tensor(0), tensor(0), tensor(0), tensor(0), tensor(0), tensor(0), tensor(0), tensor(0), tensor(0), tensor(0), tensor(0), tensor(0), tensor(0), tensor(0), tensor(0), tensor(0), tensor(0), tensor(0), tensor(0), tensor(0), tensor(0), tensor(0), tensor(0), tensor(0), tensor(0), tensor(0), tensor(0), tensor(0), tensor(0), tensor(0), tensor(0), tensor(0), tensor(0), tensor(0), tensor(0), tensor(0), tensor(0), tensor(0), tensor(0), tensor(0), tensor(0), tensor(0), tensor(0), tensor(0), tensor(0), tensor(0), tensor(0), tensor(0), tensor(0), tensor(0), tensor(0), tensor(0), tensor(0), tensor(0), tensor(0), tensor(0), tensor(0), tensor(0), tensor(0), tensor(0), tensor(0), tensor(0), tensor(0), tensor(0), tensor(0), tensor(0), tensor(0), tensor(0), tensor(0), tensor(0), tensor(0), tensor(0), tensor(0), tensor(0), tensor(0), tensor(0), tensor(0), tensor(0), tensor(0), tensor(0), tensor(0), tensor(0), tensor(0), tensor(0), tensor(0), tensor(0), tensor(0), tensor(0), tensor(0), tensor(0), tensor(0), tensor(0), tensor(0), tensor(0), tensor(0), tensor(0), tensor(0), tensor(0), tensor(0), tensor(0), tensor(0), tensor(0), tensor(0), tensor(0), tensor(0), tensor(0), tensor(0), tensor(0), tensor(0), tensor(0), tensor(0), tensor(0), tensor(0), tensor(0), tensor(0), tensor(0), tensor(0), tensor(0), tensor(0), tensor(0), tensor(0), tensor(0), tensor(0), tensor(0), tensor(0), tensor(0), tensor(0), tensor(0), tensor(0), tensor(0), tensor(0), tensor(0), tensor(0), tensor(0), tensor(0), tensor(0), tensor(0), tensor(0), tensor(0), tensor(0), tensor(0), tensor(0), tensor(0), tensor(0), tensor(0), tensor(0), tensor(0), tensor(0), tensor(0), tensor(0), tensor(0), tensor(0), tensor(0), tensor(0), tensor(0), tensor(0), tensor(0), tensor(0), tensor(0), tensor(0), tensor(0), tensor(0), tensor(0), tensor(0), tensor(0), tensor(0), tensor(0), tensor(0), tensor(0), tensor(0), tensor(0), tensor(0), tensor(0), tensor(0), tensor(0), tensor(0), tensor(0), tensor(0), tensor(0), tensor(0), tensor(0), tensor(0), tensor(0), tensor(0), tensor(0), tensor(0), tensor(0), tensor(0), tensor(0), tensor(0), tensor(0), tensor(0), tensor(0), tensor(0), tensor(0), tensor(0), tensor(0), tensor(0), tensor(0), tensor(0), tensor(0), tensor(0), tensor(0), tensor(0), tensor(0), tensor(0), tensor(0), tensor(0), tensor(0), tensor(0), tensor(0), tensor(0), tensor(0), tensor(0), tensor(0), tensor(0), tensor(0), tensor(0), tensor(0), tensor(0), tensor(0), tensor(0), tensor(0), tensor(0), tensor(0), tensor(0), tensor(0), tensor(0), tensor(0), tensor(0), tensor(0), tensor(0), tensor(0), tensor(0), tensor(0), tensor(0), tensor(0), tensor(3922), tensor(3922), tensor(3922), tensor(3922), tensor(3922), tensor(3922), tensor(3922), tensor(3922), tensor(3922), tensor(3922), tensor(3922), tensor(3922), tensor(3922), tensor(3922), tensor(3922), tensor(3922), tensor(3922), tensor(3922), tensor(3922), tensor(3922), tensor(3922), tensor(3922), tensor(3922), tensor(3922), tensor(3922), tensor(3922), tensor(3922), tensor(3922), tensor(3922), tensor(3922), tensor(3922), tensor(3922), tensor(3922), tensor(3922), tensor(3922), tensor(3922), tensor(3922), tensor(3922), tensor(3922), tensor(3922), tensor(3922), tensor(3922), tensor(3922), tensor(3922), tensor(3922), tensor(3922), tensor(3922), tensor(3922), tensor(3922), tensor(3922), tensor(3922), tensor(3922), tensor(3922), tensor(3922), tensor(3922), tensor(3922), tensor(3922), tensor(3922), tensor(3922), tensor(3922), tensor(3922), tensor(3922), tensor(3922), tensor(3922), tensor(3922), tensor(3922), tensor(3922), tensor(3922), tensor(3922), tensor(3922), tensor(3922), tensor(3922), tensor(3922), tensor(3922), tensor(3922), tensor(3922), tensor(3922), tensor(3922), tensor(3922), tensor(3922), tensor(3922), tensor(3922), tensor(3922), tensor(3922), tensor(3922), tensor(3922), tensor(3922), tensor(3922), tensor(3922), tensor(3922), tensor(3922), tensor(3922), tensor(3922), tensor(3922), tensor(3922), tensor(3922), tensor(3922), tensor(3922), tensor(3922), tensor(3922), tensor(3922), tensor(3922), tensor(3922), tensor(3922), tensor(3922), tensor(3922), tensor(3922), tensor(3922), tensor(3922), tensor(3922), tensor(3922), tensor(3922), tensor(3922), tensor(3922), tensor(3922), tensor(3922), tensor(3922), tensor(3922), tensor(3922), tensor(3922), tensor(3922), tensor(3922), tensor(3922), tensor(3922), tensor(3922), tensor(3922), tensor(3922), tensor(3922), tensor(3922), tensor(3922), tensor(3922), tensor(3922), tensor(3922), tensor(3922), tensor(3922), tensor(3922), tensor(3922), tensor(3922), tensor(3922), tensor(3922), tensor(3922), tensor(3922), tensor(3922), tensor(3922), tensor(3922), tensor(3922), tensor(3922), tensor(3922), tensor(3922), tensor(3922), tensor(3922), tensor(3922), tensor(3922), tensor(3922), tensor(3922), tensor(3922), tensor(3922), tensor(3922), tensor(3922), tensor(3922), tensor(3922), tensor(3922), tensor(3922), tensor(3922), tensor(3922), tensor(3922), tensor(3922), tensor(3922), tensor(3922), tensor(3922), tensor(3922), tensor(3922), tensor(3922), tensor(3922), tensor(3922), tensor(3922), tensor(3922), tensor(3922), tensor(3922), tensor(3922), tensor(3922), tensor(3922), tensor(3922), tensor(3922), tensor(3922), tensor(3922), tensor(3922), tensor(3922), tensor(3922), tensor(3922), tensor(3922), tensor(3922), tensor(3922), tensor(3922), tensor(3922), tensor(3922), tensor(3922), tensor(3922), tensor(3922), tensor(3922), tensor(3922), tensor(3922), tensor(3922), tensor(3922), tensor(3922), tensor(3922), tensor(3922), tensor(3922), tensor(3922), tensor(3922), tensor(3922), tensor(3922), tensor(3922), tensor(3922), tensor(3922), tensor(3922), tensor(3922), tensor(3922), tensor(3922), tensor(3922), tensor(3922), tensor(3922), tensor(3922), tensor(3922), tensor(3922), tensor(3922), tensor(3922), tensor(3922), tensor(3922), tensor(3922), tensor(3922), tensor(3922), tensor(3922), tensor(3922), tensor(3922), tensor(3922), tensor(3922), tensor(3922), tensor(3922), tensor(3922), tensor(3922), tensor(3922), tensor(3922), tensor(3922), tensor(3922), tensor(3922), tensor(3922), tensor(3922), tensor(3922), tensor(3922), tensor(3922), tensor(3922), tensor(3922), tensor(3922), tensor(3922), tensor(3922), tensor(3922), tensor(3922), tensor(3922), tensor(3922), tensor(3922), tensor(3922), tensor(3922), tensor(3922), tensor(3922), tensor(3922), tensor(3922), tensor(3922), tensor(3922), tensor(3922), tensor(3922), tensor(3922), tensor(3922), tensor(3922), tensor(3922), tensor(3922), tensor(3922), tensor(3922), tensor(3922), tensor(3922), tensor(3922), tensor(3922), tensor(3922), tensor(3922), tensor(3922), tensor(3922), tensor(3922), tensor(3922), tensor(3922), tensor(3922), tensor(3922), tensor(3922), tensor(3922), tensor(3922), tensor(3922), tensor(3922), tensor(3922), tensor(3922), tensor(3922), tensor(3922), tensor(3922), tensor(3922), tensor(3922), tensor(3922), tensor(3922), tensor(3922), tensor(3922), tensor(3922), tensor(3922), tensor(3922), tensor(3922), tensor(3922), tensor(3922), tensor(3922), tensor(3922), tensor(3922), tensor(3922), tensor(3922), tensor(3922), tensor(3922), tensor(3922), tensor(3922), tensor(3922), tensor(3922), tensor(3922), tensor(3922), tensor(3922), tensor(3922), tensor(3922), tensor(3922), tensor(3922), tensor(3922), tensor(3922), tensor(3922), tensor(3922), tensor(3922), tensor(3922), tensor(3922), tensor(3922), tensor(3922), tensor(3922), tensor(3922), tensor(3922), tensor(3922), tensor(3922), tensor(3922), tensor(3922), tensor(3922), tensor(3922), tensor(3922), tensor(3922), tensor(3922), tensor(3922), tensor(3922), tensor(3922), tensor(3922), tensor(3922), tensor(3922), tensor(3922), tensor(3922), tensor(3922), tensor(3922), tensor(3922), tensor(3922), tensor(3922), tensor(3922), tensor(3922), tensor(3922), tensor(3922), tensor(3922), tensor(3922), tensor(3922), tensor(3922), tensor(3922), tensor(3922), tensor(3922), tensor(3922), tensor(3922), tensor(3922), tensor(3922), tensor(3922), tensor(3922), tensor(3922), tensor(3922), tensor(3922), tensor(3922), tensor(3922), tensor(3922), tensor(3922), tensor(3922), tensor(3922), tensor(3922), tensor(3922), tensor(3922), tensor(3922), tensor(3922), tensor(3922), tensor(3922), tensor(3922), tensor(3922), tensor(3922), tensor(3922), tensor(3922), tensor(3922), tensor(3922), tensor(3922), tensor(3922), tensor(3922), tensor(3922), tensor(3922), tensor(3922), tensor(3922), tensor(3922), tensor(3922), tensor(3922), tensor(3922), tensor(3922), tensor(3922), tensor(3922), tensor(3922), tensor(3922), tensor(3922), tensor(3922), tensor(3922), tensor(3922), tensor(3922), tensor(3922), tensor(3922), tensor(3922), tensor(3922), tensor(3922), tensor(3922), tensor(3922), tensor(3922), tensor(3922), tensor(3922), tensor(3922), tensor(3922), tensor(3922), tensor(3922), tensor(3922), tensor(3922), tensor(3922), tensor(3922), tensor(3922), tensor(3922), tensor(3922), tensor(3922), tensor(3922), tensor(3922), tensor(3922), tensor(3922), tensor(3922), tensor(3922), tensor(3922), tensor(3922), tensor(3922), tensor(3922), tensor(3922), tensor(3922), tensor(3922), tensor(3922), tensor(3922), tensor(3922), tensor(3922), tensor(3922), tensor(3922), tensor(3922), tensor(3922), tensor(3922), tensor(3922), tensor(3922), tensor(3922), tensor(3922), tensor(3922), tensor(3922), tensor(3922), tensor(3922), tensor(3922), tensor(3922), tensor(3922), tensor(3922), tensor(3922), tensor(3922), tensor(3922), tensor(3922), tensor(3922), tensor(3922), tensor(3922), tensor(3922), tensor(3922), tensor(3922), tensor(3922), tensor(3922), tensor(3922), tensor(3922), tensor(3922), tensor(3922), tensor(3922), tensor(3922), tensor(3922), tensor(3922), tensor(3922), tensor(3922), tensor(3922), tensor(3922), tensor(3922), tensor(3922), tensor(3922), tensor(3922), tensor(3922), tensor(3922), tensor(3922), tensor(3922), tensor(3922), tensor(3922), tensor(3922), tensor(3922), tensor(3922), tensor(3922), tensor(3922), tensor(3922), tensor(3922), tensor(3922), tensor(3922), tensor(3922), tensor(3922), tensor(3922), tensor(3922), tensor(3922), tensor(3922), tensor(3922), tensor(3922), tensor(3922), tensor(3922), tensor(3922), tensor(3922), tensor(3922), tensor(3922), tensor(3922), tensor(3922), tensor(3922), tensor(3922), tensor(3922), tensor(3922), tensor(3922), tensor(3922), tensor(3922), tensor(3922), tensor(3922), tensor(3922), tensor(3922), tensor(3922), tensor(3922), tensor(3922), tensor(3922), tensor(3922), tensor(3922), tensor(3922), tensor(3922), tensor(3922), tensor(3922), tensor(3922), tensor(3922), tensor(3922), tensor(3922), tensor(3922), tensor(3922), tensor(3922), tensor(3922), tensor(3922), tensor(3922), tensor(3922), tensor(3922), tensor(3922), tensor(3922), tensor(3922), tensor(3922), tensor(3922), tensor(3922), tensor(3922), tensor(3922), tensor(3922), tensor(3922), tensor(3922), tensor(3922), tensor(3922), tensor(3922), tensor(3922), tensor(3922), tensor(3922), tensor(3922), tensor(3922), tensor(3922), tensor(3922), tensor(3922), tensor(3922), tensor(3922), tensor(3922), tensor(3922), tensor(3922), tensor(3922), tensor(3922), tensor(3922), tensor(3922), tensor(3922), tensor(3922), tensor(3922), tensor(3922), tensor(3922), tensor(3922), tensor(3922), tensor(3922), tensor(3922), tensor(3922), tensor(3922), tensor(3922), tensor(3922), tensor(3922), tensor(3922), tensor(3922), tensor(3922), tensor(3922), tensor(3922), tensor(3922), tensor(3922), tensor(3922), tensor(3922), tensor(3922), tensor(3922), tensor(3922), tensor(3922), tensor(3922), tensor(3922), tensor(3922), tensor(3922), tensor(3922), tensor(3922), tensor(3922), tensor(3922), tensor(3922), tensor(3922), tensor(3922), tensor(3922), tensor(3922), tensor(3922), tensor(3922), tensor(3922), tensor(3922), tensor(3922), tensor(3922), tensor(3922), tensor(3922), tensor(3922), tensor(3922), tensor(3922), tensor(3922), tensor(3922), tensor(3922), tensor(3922), tensor(3922), tensor(3922), tensor(3922), tensor(3922), tensor(3922), tensor(3922), tensor(3922), tensor(3922), tensor(3922), tensor(3922), tensor(3922), tensor(3922), tensor(3922), tensor(3922), tensor(3922), tensor(3922), tensor(3922), tensor(3922), tensor(3922), tensor(3922), tensor(3922), tensor(3922), tensor(3922), tensor(3922), tensor(3922), tensor(3922), tensor(3922), tensor(3922), tensor(3922), tensor(3922), tensor(3922), tensor(3922), tensor(3922), tensor(3922), tensor(3922), tensor(3922), tensor(3922), tensor(3922), tensor(3922), tensor(3922), tensor(3922), tensor(3922), tensor(3922), tensor(3922), tensor(3922), tensor(3922), tensor(3922), tensor(3922), tensor(3922), tensor(3922), tensor(3922), tensor(3922), tensor(3922), tensor(3922), tensor(3922), tensor(3922), tensor(3922), tensor(3922), tensor(3922), tensor(3922), tensor(3922), tensor(3922), tensor(3922), tensor(3922), tensor(3922), tensor(3922), tensor(3922), tensor(3922), tensor(3922), tensor(3922), tensor(3922), tensor(3922), tensor(3922), tensor(3922), tensor(3922), tensor(3922), tensor(3922), tensor(3922), tensor(3922), tensor(3922), tensor(3922), tensor(3922), tensor(3922), tensor(3922), tensor(3922), tensor(3922), tensor(3922), tensor(3922), tensor(3922), tensor(3922), tensor(3922), tensor(3922), tensor(3922), tensor(3922), tensor(3922), tensor(3922), tensor(3922), tensor(3922), tensor(3922), tensor(3922), tensor(3922), tensor(3922), tensor(3922), tensor(3922), tensor(3922), tensor(3922), tensor(3922), tensor(3922), tensor(3922), tensor(3922), tensor(3922), tensor(3922), tensor(3922), tensor(3922), tensor(3922), tensor(3922), tensor(3922), tensor(3922), tensor(3922), tensor(3922), tensor(3922), tensor(3922), tensor(3922), tensor(3922), tensor(3922), tensor(3922), tensor(3922), tensor(3922), tensor(3922), tensor(3922), tensor(3922), tensor(3922), tensor(3922), tensor(3922), tensor(3922), tensor(3922), tensor(3922), tensor(3922), tensor(3922), tensor(3922), tensor(3922), tensor(3922), tensor(3922), tensor(3922), tensor(3922), tensor(3922), tensor(3922), tensor(3922), tensor(3922), tensor(3922), tensor(3922), tensor(3922), tensor(3922), tensor(3922), tensor(3922), tensor(3922), tensor(3922), tensor(3922), tensor(3922), tensor(3922), tensor(3922), tensor(3922), tensor(3922), tensor(3922), tensor(3922), tensor(3922), tensor(3922), tensor(3922), tensor(3922), tensor(3922), tensor(3922), tensor(3922), tensor(3922), tensor(3922), tensor(3922), tensor(3922), tensor(3922), tensor(3922), tensor(3922), tensor(3922), tensor(3922), tensor(3922), tensor(3922), tensor(3922), tensor(3922), tensor(3922), tensor(3922), tensor(3922), tensor(3922), tensor(3922), tensor(3922), tensor(3922), tensor(3922), tensor(3922), tensor(3922), tensor(3922), tensor(3922), tensor(3922), tensor(3922), tensor(3922), tensor(3922), tensor(3922), tensor(3922), tensor(3922), tensor(3922), tensor(3922), tensor(3922), tensor(3922), tensor(3922), tensor(3922), tensor(3922), tensor(3922), tensor(3922), tensor(3922), tensor(3922), tensor(3922), tensor(3922), tensor(3922), tensor(3922), tensor(3922), tensor(3922), tensor(3922), tensor(3922), tensor(3922), tensor(3922), tensor(3922), tensor(3922), tensor(3922), tensor(3922), tensor(3922), tensor(3922), tensor(3922), tensor(3922), tensor(3922), tensor(3922), tensor(3922), tensor(3922), tensor(3922), tensor(3922), tensor(3922), tensor(3922), tensor(3922), tensor(3922), tensor(3922), tensor(3922), tensor(3922), tensor(3922), tensor(3922), tensor(3922), tensor(3922), tensor(3922), tensor(3922), tensor(3922), tensor(3922), tensor(3922), tensor(3922), tensor(3922), tensor(3922), tensor(3922), tensor(3922), tensor(3922), tensor(3922), tensor(3922), tensor(3922), tensor(3922), tensor(3922), tensor(3922), tensor(3922), tensor(3922), tensor(3922), tensor(3922), tensor(3922), tensor(3922), tensor(3922), tensor(3922), tensor(3922), tensor(3922), tensor(3922), tensor(3922), tensor(3922), tensor(3922), tensor(3922), tensor(3922), tensor(3922), tensor(3922), tensor(3922), tensor(3922), tensor(3922), tensor(3922), tensor(3922), tensor(3922), tensor(3922), tensor(3922), tensor(3922), tensor(3922), tensor(3922), tensor(3922), tensor(3922), tensor(3922), tensor(3922), tensor(3922), tensor(3922), tensor(3922), tensor(3922), tensor(3922), tensor(3922), tensor(3922), tensor(3922), tensor(3922), tensor(3922), tensor(3922), tensor(3922), tensor(3922), tensor(3922), tensor(3922), tensor(3922), tensor(3922), tensor(3922), tensor(3922), tensor(3922), tensor(3922), tensor(3922), tensor(3922), tensor(3922), tensor(3922), tensor(3922), tensor(3922), tensor(3922), tensor(3922), tensor(3922), tensor(3922), tensor(3922), tensor(3922), tensor(3922), tensor(3922), tensor(3922), tensor(3922), tensor(3922), tensor(3922), tensor(3922), tensor(3922), tensor(3922), tensor(3922), tensor(3922), tensor(3922), tensor(3922), tensor(3922), tensor(3922), tensor(3922), tensor(3922), tensor(3922), tensor(3922), tensor(3922), tensor(3922), tensor(3922), tensor(3922), tensor(3922), tensor(3922), tensor(3922), tensor(3922), tensor(3922), tensor(3922), tensor(3922), tensor(3922), tensor(3922), tensor(3922), tensor(3922), tensor(3922), tensor(3922), tensor(3922), tensor(3922), tensor(3922), tensor(3922), tensor(3922), tensor(3922), tensor(3922), tensor(3922), tensor(3922), tensor(3922), tensor(3922), tensor(3922), tensor(3922), tensor(3922), tensor(3922), tensor(3922), tensor(3922), tensor(3922), tensor(3922), tensor(3922), tensor(3922), tensor(3922), tensor(3922), tensor(3922), tensor(3922), tensor(3922), tensor(3922), tensor(3922), tensor(3922), tensor(3922), tensor(3922), tensor(3922), tensor(3922), tensor(3922), tensor(3922), tensor(3922), tensor(3922), tensor(3922), tensor(3922), tensor(3922), tensor(3922), tensor(3922), tensor(3922), tensor(3922), tensor(3922), tensor(3922), tensor(3922), tensor(3922), tensor(3922), tensor(3922), tensor(3922), tensor(3922), tensor(3922), tensor(3922), tensor(3922), tensor(3922), tensor(3922), tensor(3922), tensor(3922), tensor(3922), tensor(3922), tensor(3922), tensor(3922), tensor(3922), tensor(3922), tensor(3922), tensor(3922), tensor(3922), tensor(3922), tensor(3922), tensor(3922), tensor(3922), tensor(3922), tensor(3922), tensor(3922), tensor(3922), tensor(3922), tensor(3922), tensor(3922), tensor(3922), tensor(3922), tensor(3922), tensor(3922), tensor(3922), tensor(3922), tensor(3922), tensor(3922), tensor(3922), tensor(3922), tensor(3922), tensor(3922), tensor(3922), tensor(3922), tensor(3922), tensor(3922), tensor(3922), tensor(3922), tensor(3922), tensor(3922), tensor(3922), tensor(3922), tensor(3922), tensor(3922), tensor(3922), tensor(3922), tensor(3922), tensor(3922), tensor(3922), tensor(3922), tensor(3922), tensor(3922), tensor(3922), tensor(3922), tensor(3922), tensor(3922), tensor(3922), tensor(3922), tensor(3922), tensor(3922), tensor(3922), tensor(3922), tensor(3922), tensor(3922), tensor(3922), tensor(3922), tensor(3922), tensor(3922), tensor(3922), tensor(3922), tensor(3922), tensor(3922), tensor(3922), tensor(3922), tensor(3922), tensor(3922), tensor(3922), tensor(3922), tensor(3922), tensor(3922), tensor(3922), tensor(3922), tensor(3922), tensor(3922), tensor(3922), tensor(3922), tensor(3922), tensor(3922), tensor(3922), tensor(3922), tensor(3922), tensor(3922), tensor(3922), tensor(3922), tensor(3922), tensor(3922), tensor(3922), tensor(3922), tensor(3922), tensor(3922), tensor(3922), tensor(3922), tensor(3922), tensor(3922), tensor(3922), tensor(3922), tensor(3922), tensor(3922), tensor(3922), tensor(3922), tensor(3922), tensor(3922), tensor(3922), tensor(3922), tensor(3922), tensor(3922), tensor(3922), tensor(3922), tensor(3922), tensor(3922), tensor(3922), tensor(3922), tensor(3922), tensor(3922), tensor(3922), tensor(3922), tensor(3922), tensor(3922), tensor(3922), tensor(3922), tensor(3922), tensor(3922), tensor(3922), tensor(3922), tensor(3922), tensor(3922), tensor(3922), tensor(3922), tensor(3922), tensor(3922), tensor(3922), tensor(3922), tensor(3922), tensor(3922), tensor(3922), tensor(3922), tensor(3922), tensor(3922), tensor(3922), tensor(3922), tensor(3922), tensor(3922), tensor(3922), tensor(3922), tensor(3922), tensor(3922), tensor(3922), tensor(3922), tensor(3922), tensor(3922), tensor(3922), tensor(3922), tensor(3922), tensor(3922), tensor(3922), tensor(3922), tensor(3922), tensor(3922), tensor(3922), tensor(3922), tensor(3922), tensor(3922), tensor(3922), tensor(3922), tensor(3922), tensor(3922), tensor(3922), tensor(3922), tensor(3922), tensor(3922), tensor(3922), tensor(3922), tensor(3922), tensor(3922), tensor(3922), tensor(3922), tensor(3922), tensor(3922), tensor(3922), tensor(3922), tensor(3922), tensor(3922), tensor(3922), tensor(3922), tensor(3922), tensor(3922), tensor(3922), tensor(3922), tensor(3922), tensor(3922), tensor(3922), tensor(3922), tensor(3922), tensor(3922), tensor(3922), tensor(3922), tensor(3922), tensor(3922), tensor(3922), tensor(3922), tensor(3922), tensor(3922), tensor(3922), tensor(3922), tensor(3922), tensor(3922), tensor(3922), tensor(3922), tensor(3922), tensor(3922), tensor(3922), tensor(3922), tensor(3922), tensor(3922), tensor(3922), tensor(3922), tensor(3922), tensor(3922), tensor(3922), tensor(3922), tensor(3922), tensor(3922), tensor(3922), tensor(3922), tensor(3922), tensor(3922), tensor(3922), tensor(3922), tensor(3922), tensor(3922), tensor(3922), tensor(3922), tensor(3922), tensor(3922), tensor(3922), tensor(3922), tensor(3922), tensor(3922), tensor(3922), tensor(3922), tensor(3922), tensor(3922), tensor(3922), tensor(3922), tensor(3922), tensor(3922), tensor(3922), tensor(3922), tensor(3922), tensor(3922), tensor(3922), tensor(3922), tensor(3922), tensor(3922), tensor(3922), tensor(3922), tensor(3922), tensor(3922), tensor(3922), tensor(3922), tensor(3922), tensor(3922), tensor(3922), tensor(3922), tensor(3922), tensor(3922), tensor(3922), tensor(3922), tensor(3922), tensor(3922), tensor(3922), tensor(3922), tensor(3922), tensor(3922), tensor(3922), tensor(3922), tensor(3922), tensor(3922), tensor(3922), tensor(3922), tensor(3922), tensor(3922), tensor(3922), tensor(3922), tensor(3922), tensor(3922), tensor(3922), tensor(3922), tensor(3922), tensor(3922), tensor(3922), tensor(3922), tensor(3922), tensor(3922), tensor(3922), tensor(3922), tensor(3922), tensor(3922), tensor(3922), tensor(3922), tensor(3922), tensor(3922), tensor(3922), tensor(3922), tensor(3922), tensor(3922), tensor(3922), tensor(3922), tensor(3922), tensor(3922), tensor(3922), tensor(3922), tensor(3922), tensor(3922), tensor(3922), tensor(3922), tensor(3922), tensor(3922), tensor(3922), tensor(3922), tensor(3922), tensor(3922), tensor(3922), tensor(3922), tensor(3922), tensor(3922), tensor(3922), tensor(3922), tensor(3922), tensor(3922), tensor(3922), tensor(3922), tensor(3922), tensor(3922), tensor(3922), tensor(3922), tensor(3922), tensor(3922), tensor(3922), tensor(3922), tensor(3922), tensor(3922), tensor(3922), tensor(3922), tensor(3922), tensor(3922), tensor(3922), tensor(3922), tensor(3922), tensor(3922), tensor(3922), tensor(3922), tensor(3922), tensor(3922), tensor(3922), tensor(3922), tensor(3922), tensor(3922), tensor(3922), tensor(3922), tensor(3922), tensor(3922), tensor(3922), tensor(3922), tensor(3922), tensor(3922), tensor(3922), tensor(3922), tensor(3922), tensor(3922), tensor(3922), tensor(3922), tensor(3922), tensor(3922), tensor(3922), tensor(3922), tensor(3922), tensor(3922), tensor(3922), tensor(3922), tensor(3922), tensor(3922), tensor(3922), tensor(3922), tensor(3922), tensor(3922), tensor(3922), tensor(3922), tensor(3922), tensor(3922), tensor(3922), tensor(3922), tensor(3922), tensor(3922), tensor(3922), tensor(3922), tensor(3922), tensor(3922), tensor(3922), tensor(3922), tensor(3922), tensor(3922), tensor(3922), tensor(3922), tensor(3922), tensor(3922), tensor(3922), tensor(3922), tensor(3922), tensor(3922), tensor(3922), tensor(3922), tensor(3922), tensor(3922), tensor(3922), tensor(3922), tensor(3922), tensor(3922), tensor(3922), tensor(3922), tensor(3922), tensor(3922), tensor(3922), tensor(3922), tensor(3922), tensor(3922), tensor(3922), tensor(3922), tensor(3922), tensor(3922), tensor(3922), tensor(3922), tensor(3922), tensor(3922), tensor(3922), tensor(3922), tensor(3922), tensor(3922), tensor(3922), tensor(3922), tensor(3922), tensor(3922), tensor(3922), tensor(3922), tensor(3922), tensor(3922), tensor(3922), tensor(3922), tensor(3922), tensor(3922), tensor(3922), tensor(3922), tensor(3922), tensor(3922), tensor(3922), tensor(3922), tensor(3922), tensor(3922), tensor(3922), tensor(3922), tensor(3922), tensor(3922), tensor(3922), tensor(3922), tensor(3922), tensor(3922), tensor(3922), tensor(3922), tensor(3922), tensor(3922), tensor(3922), tensor(3922), tensor(3922), tensor(3922), tensor(3922), tensor(3922), tensor(3922), tensor(3922), tensor(3922), tensor(3922), tensor(3922), tensor(3922), tensor(3922), tensor(3922), tensor(3922), tensor(3922), tensor(3922), tensor(3922), tensor(3922), tensor(3922), tensor(3922), tensor(3922), tensor(3922), tensor(3922), tensor(3922), tensor(3922), tensor(3922), tensor(3922), tensor(3922), tensor(3922), tensor(3922), tensor(3922), tensor(3922), tensor(3922), tensor(3922), tensor(3922), tensor(3922), tensor(3922), tensor(3922), tensor(3922), tensor(3922), tensor(3922), tensor(3922), tensor(3922), tensor(3922), tensor(3922), tensor(3922), tensor(3922), tensor(3922), tensor(3922), tensor(3922), tensor(3922), tensor(3922), tensor(3922), tensor(3922), tensor(3922), tensor(3922), tensor(3922), tensor(3922), tensor(3922), tensor(3922), tensor(3922), tensor(3922), tensor(3922), tensor(3922), tensor(3922), tensor(3922), tensor(3922), tensor(3922), tensor(3922), tensor(3922), tensor(3922), tensor(3922), tensor(3922), tensor(3922), tensor(3922), tensor(3922), tensor(3922), tensor(3922), tensor(3922), tensor(3922), tensor(3922), tensor(3922), tensor(3922), tensor(3922), tensor(3922), tensor(3922), tensor(3922), tensor(3922), tensor(3922), tensor(3922), tensor(3922), tensor(3922), tensor(3922), tensor(3922), tensor(3922), tensor(3922), tensor(3922), tensor(3922), tensor(3922), tensor(3922), tensor(3922), tensor(3922), tensor(3922), tensor(3922), tensor(3922), tensor(3922), tensor(3922), tensor(3922), tensor(3922), tensor(3922), tensor(3922), tensor(3922), tensor(3922), tensor(3922), tensor(3922), tensor(3922), tensor(3922), tensor(3922), tensor(3922), tensor(3922), tensor(3922), tensor(3922), tensor(3922), tensor(3922), tensor(3922), tensor(3922), tensor(3922), tensor(3922), tensor(3922), tensor(3922), tensor(3922), tensor(3922), tensor(3922), tensor(3922), tensor(3922), tensor(3922), tensor(3922), tensor(3922), tensor(3922), tensor(3922), tensor(3922), tensor(3922), tensor(3922), tensor(3922), tensor(3922), tensor(3922), tensor(3922), tensor(3922), tensor(3922), tensor(3922), tensor(3922), tensor(3922), tensor(3922), tensor(3922), tensor(3922), tensor(3922), tensor(3922), tensor(3922), tensor(3922), tensor(3922), tensor(3922), tensor(3922), tensor(3922), tensor(3922), tensor(3922), tensor(3922), tensor(3922), tensor(3922), tensor(3922), tensor(3922), tensor(3922), tensor(3922), tensor(3922), tensor(3922), tensor(3922), tensor(3922), tensor(3922), tensor(3922), tensor(3922), tensor(3922), tensor(3922), tensor(3922), tensor(3922), tensor(3922), tensor(3922), tensor(3922), tensor(3922), tensor(3922), tensor(3922), tensor(3922), tensor(3922), tensor(3922), tensor(3922), tensor(3922), tensor(3922), tensor(3922), tensor(3922), tensor(3922), tensor(3922), tensor(3922), tensor(3922), tensor(3922), tensor(3922), tensor(3922), tensor(3922), tensor(3922), tensor(3922), tensor(3922), tensor(3922), tensor(3922), tensor(3922), tensor(3922), tensor(3922), tensor(3922), tensor(3922), tensor(3922), tensor(3922), tensor(3922), tensor(3922), tensor(3922), tensor(3922), tensor(3922), tensor(3922), tensor(3922), tensor(3922), tensor(3922), tensor(3922), tensor(3922), tensor(3922), tensor(3922), tensor(3922), tensor(3922), tensor(3922), tensor(3922), tensor(3922), tensor(3922), tensor(3922), tensor(3922), tensor(3922), tensor(3922), tensor(3922), tensor(3922), tensor(3922), tensor(3922), tensor(3922), tensor(3922), tensor(3922), tensor(3922), tensor(3922), tensor(3922), tensor(3922), tensor(3922), tensor(3922), tensor(3922), tensor(3922), tensor(3922), tensor(3922), tensor(3922), tensor(3922), tensor(3922), tensor(3922), tensor(3922), tensor(3922), tensor(3922), tensor(3922), tensor(3922), tensor(3922), tensor(3922), tensor(3922), tensor(3922), tensor(3922), tensor(3922), tensor(3922), tensor(3922), tensor(3922), tensor(3922), tensor(3922), tensor(3922), tensor(3922), tensor(3922), tensor(3922), tensor(3922), tensor(3922), tensor(3922), tensor(3922), tensor(3922), tensor(3922), tensor(3922), tensor(3922), tensor(3922), tensor(3922), tensor(3922), tensor(3922), tensor(3922), tensor(3922), tensor(3922), tensor(3922), tensor(3922), tensor(3922), tensor(3922), tensor(3922), tensor(3922), tensor(3922), tensor(3922), tensor(3922), tensor(3922), tensor(3922), tensor(3922), tensor(3922), tensor(3922), tensor(3922), tensor(3922), tensor(3922), tensor(3922), tensor(3922), tensor(3922), tensor(3922), tensor(3922), tensor(3922), tensor(3922), tensor(3922), tensor(3922), tensor(3922), tensor(3922), tensor(3922), tensor(3922), tensor(3922), tensor(3922), tensor(3922), tensor(3922), tensor(3922), tensor(3922), tensor(3922), tensor(3922), tensor(3922), tensor(3922), tensor(3922), tensor(3922), tensor(3922), tensor(3922), tensor(3922), tensor(3922), tensor(3922), tensor(3922), tensor(3922), tensor(3922), tensor(3922), tensor(3922), tensor(3922), tensor(3922), tensor(3922), tensor(3922), tensor(3922), tensor(3922), tensor(3922), tensor(3922), tensor(3922), tensor(3922), tensor(3922), tensor(3922), tensor(3922), tensor(3922), tensor(3922), tensor(3922), tensor(3922), tensor(3922), tensor(3922), tensor(3922), tensor(3922), tensor(3922), tensor(3922), tensor(3922), tensor(3922), tensor(3922), tensor(3922), tensor(3922), tensor(3922), tensor(3922), tensor(3922), tensor(3922), tensor(3922), tensor(3922), tensor(3922), tensor(3922), tensor(3922), tensor(3922), tensor(3922), tensor(3922), tensor(3922), tensor(3922), tensor(3922), tensor(3922), tensor(3922), tensor(3922), tensor(3922), tensor(3922), tensor(3922), tensor(3922), tensor(3922), tensor(3922), tensor(3922), tensor(3922), tensor(3922), tensor(3922), tensor(3922), tensor(3922), tensor(3922), tensor(3922), tensor(3922), tensor(3922), tensor(3922), tensor(3922), tensor(3922), tensor(3922), tensor(3922), tensor(3922), tensor(3922), tensor(3922), tensor(3922), tensor(3922), tensor(3922), tensor(3922), tensor(3922), tensor(3922), tensor(3922), tensor(3922), tensor(3922), tensor(3922), tensor(3922), tensor(3922), tensor(3922), tensor(3922), tensor(3922), tensor(3922), tensor(3922), tensor(3922), tensor(3922), tensor(3922), tensor(3922), tensor(3922), tensor(3922), tensor(3922), tensor(3922), tensor(3922), tensor(3922), tensor(3922), tensor(3922), tensor(3922), tensor(3922), tensor(3922), tensor(3922), tensor(3922), tensor(3922), tensor(3922), tensor(3922), tensor(3922), tensor(3922), tensor(3922), tensor(3922), tensor(3922), tensor(3922), tensor(3922), tensor(3922), tensor(3922), tensor(3922), tensor(3922), tensor(3922), tensor(3922), tensor(3922), tensor(3922), tensor(3922), tensor(3922), tensor(3922), tensor(3922), tensor(3922), tensor(3922), tensor(3922), tensor(3922), tensor(3922), tensor(3922), tensor(3922), tensor(3922), tensor(3922), tensor(3922), tensor(3922), tensor(3922), tensor(3922), tensor(3922), tensor(3922), tensor(3922), tensor(3922), tensor(3922), tensor(3922), tensor(3922), tensor(3922), tensor(3922), tensor(3922), tensor(3922), tensor(3922), tensor(3922), tensor(3922), tensor(3922), tensor(3922), tensor(3922), tensor(3922), tensor(3922), tensor(3922), tensor(3922), tensor(3922), tensor(3922), tensor(3922), tensor(3922), tensor(3922), tensor(3922), tensor(3922), tensor(3922), tensor(3922), tensor(3922), tensor(3922), tensor(3922), tensor(3922), tensor(3922), tensor(3922), tensor(3922), tensor(3922), tensor(3922), tensor(3922), tensor(3922), tensor(3922), tensor(3922), tensor(3922), tensor(3922), tensor(3922), tensor(3922), tensor(3922), tensor(3922), tensor(3922), tensor(3922), tensor(3922), tensor(3922), tensor(3922), tensor(3922), tensor(3922), tensor(3922), tensor(3922), tensor(3922), tensor(3922), tensor(3922), tensor(3922), tensor(3922), tensor(3922), tensor(3922), tensor(3922), tensor(3922), tensor(3922), tensor(3922), tensor(3922), tensor(3922), tensor(3922), tensor(3922), tensor(3922), tensor(3922), tensor(3922), tensor(3922), tensor(3922), tensor(3922), tensor(3922), tensor(3922), tensor(3922), tensor(3922), tensor(3922), tensor(3922), tensor(3922), tensor(3922), tensor(3922), tensor(3922), tensor(3922), tensor(3922), tensor(3922), tensor(3922), tensor(3922), tensor(3922), tensor(3922), tensor(3922), tensor(3922), tensor(3922), tensor(3922), tensor(3922), tensor(3922), tensor(3922), tensor(3922), tensor(3922), tensor(3922), tensor(3922), tensor(3922), tensor(3922), tensor(3922), tensor(3922), tensor(3922), tensor(3922), tensor(3922), tensor(3922), tensor(3922), tensor(3922), tensor(3922), tensor(3922), tensor(3922), tensor(3922), tensor(3922), tensor(3922), tensor(3922), tensor(3922), tensor(3922), tensor(3922), tensor(3922), tensor(3922), tensor(3922), tensor(3922), tensor(3922), tensor(3922), tensor(3922), tensor(3922), tensor(3922), tensor(3922), tensor(3922), tensor(3922), tensor(3922), tensor(3922), tensor(3922), tensor(3922), tensor(3922), tensor(3922), tensor(3922), tensor(3922), tensor(3922), tensor(3922)]\n",
      "Test accuracy: 27.812%\n"
     ]
    }
   ],
   "source": [
    "print(test_correct)\n",
    "print(f'Test accuracy: {test_correct[-1].item()*100/3510:.3f}%')"
   ],
   "metadata": {
    "collapsed": false,
    "pycharm": {
     "name": "#%%\n"
    }
   }
  },
  {
   "cell_type": "code",
   "execution_count": null,
   "outputs": [],
   "source": [],
   "metadata": {
    "collapsed": false,
    "pycharm": {
     "name": "#%%\n"
    }
   }
  }
 ],
 "metadata": {
  "kernelspec": {
   "name": "pytorchenv",
   "language": "python",
   "display_name": "pytorchenv"
  },
  "language_info": {
   "codemirror_mode": {
    "name": "ipython",
    "version": 3
   },
   "file_extension": ".py",
   "mimetype": "text/x-python",
   "name": "python",
   "nbconvert_exporter": "python",
   "pygments_lexer": "ipython3",
   "version": "3.9.7"
  }
 },
 "nbformat": 4,
 "nbformat_minor": 5
}